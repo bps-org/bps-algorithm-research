{
 "cells": [
  {
   "cell_type": "code",
   "execution_count": 3,
   "metadata": {},
   "outputs": [],
   "source": [
    "import bluetooth as bt\n",
    "## look for surounding devices\n",
    "ADD_DEVICES=bt.discover_devices()\n",
    "\n",
    "NAME_DEVICES=[]\n",
    "## find user friendly names of devices\n",
    "for X in ADD_DEVICES:\n",
    "    NAME_DEVICES.append(bt.lookup_name(X))"
   ]
  },
  {
   "cell_type": "code",
   "execution_count": 4,
   "metadata": {},
   "outputs": [
    {
     "name": "stdout",
     "output_type": "stream",
     "text": [
      "['MID', 'WONDERBOOM', 'Bose SLIII']\n"
     ]
    }
   ],
   "source": [
    "print(NAME_DEVICES)"
   ]
  },
  {
   "cell_type": "code",
   "execution_count": 5,
   "metadata": {},
   "outputs": [
    {
     "data": {
      "text/plain": [
       "[('2C:4D:79:10:B4:BB', 'MID', 2360324),\n",
       " ('C0:28:8D:73:17:28', 'WONDERBOOM', 2360324),\n",
       " ('00:0C:8A:E5:B5:7C', 'Bose SLIII', 2360360),\n",
       " ('C0:EE:FB:FE:98:1B', 'OnePlus 3T', 5898764)]"
      ]
     },
     "execution_count": 5,
     "metadata": {},
     "output_type": "execute_result"
    }
   ],
   "source": [
    "bt.discover_devices(lookup_names=True,lookup_class=True)"
   ]
  },
  {
   "cell_type": "code",
   "execution_count": 22,
   "metadata": {},
   "outputs": [
    {
     "ename": "OSError",
     "evalue": "",
     "output_type": "error",
     "traceback": [
      "\u001b[1;31m---------------------------------------------------------------------------\u001b[0m",
      "\u001b[1;31mOSError\u001b[0m                                   Traceback (most recent call last)",
      "\u001b[1;32m<ipython-input-22-3daf57280695>\u001b[0m in \u001b[0;36m<module>\u001b[1;34m\u001b[0m\n\u001b[0;32m      1\u001b[0m \u001b[1;31m#send song\u001b[0m\u001b[1;33m\u001b[0m\u001b[1;33m\u001b[0m\u001b[1;33m\u001b[0m\u001b[0m\n\u001b[0;32m      2\u001b[0m \u001b[1;32mfor\u001b[0m \u001b[0mi\u001b[0m \u001b[1;32min\u001b[0m \u001b[0mrange\u001b[0m\u001b[1;33m(\u001b[0m\u001b[1;36m0\u001b[0m\u001b[1;33m,\u001b[0m \u001b[0mlen\u001b[0m\u001b[1;33m(\u001b[0m\u001b[0mmax_mtu_song\u001b[0m\u001b[1;33m)\u001b[0m\u001b[1;33m)\u001b[0m\u001b[1;33m:\u001b[0m\u001b[1;33m\u001b[0m\u001b[1;33m\u001b[0m\u001b[0m\n\u001b[1;32m----> 3\u001b[1;33m     \u001b[0ms\u001b[0m\u001b[1;33m.\u001b[0m\u001b[0msend\u001b[0m\u001b[1;33m(\u001b[0m\u001b[0mmax_mtu_song\u001b[0m\u001b[1;33m[\u001b[0m\u001b[0mi\u001b[0m\u001b[1;33m]\u001b[0m\u001b[1;33m)\u001b[0m\u001b[1;33m\u001b[0m\u001b[1;33m\u001b[0m\u001b[0m\n\u001b[0m\u001b[0;32m      4\u001b[0m     \u001b[0msleep\u001b[0m\u001b[1;33m(\u001b[0m\u001b[1;36m0.5\u001b[0m\u001b[1;33m)\u001b[0m\u001b[1;33m\u001b[0m\u001b[1;33m\u001b[0m\u001b[0m\n",
      "\u001b[1;32mc:\\users\\hugod\\appdata\\local\\programs\\python\\python38\\lib\\site-packages\\bluetooth\\msbt.py\u001b[0m in \u001b[0;36msend\u001b[1;34m(self, data)\u001b[0m\n\u001b[0;32m     85\u001b[0m \u001b[1;33m\u001b[0m\u001b[0m\n\u001b[0;32m     86\u001b[0m     \u001b[1;32mdef\u001b[0m \u001b[0msend\u001b[0m \u001b[1;33m(\u001b[0m\u001b[0mself\u001b[0m\u001b[1;33m,\u001b[0m \u001b[0mdata\u001b[0m\u001b[1;33m)\u001b[0m\u001b[1;33m:\u001b[0m\u001b[1;33m\u001b[0m\u001b[1;33m\u001b[0m\u001b[0m\n\u001b[1;32m---> 87\u001b[1;33m         \u001b[1;32mreturn\u001b[0m \u001b[0mbt\u001b[0m\u001b[1;33m.\u001b[0m\u001b[0msend\u001b[0m \u001b[1;33m(\u001b[0m\u001b[0mself\u001b[0m\u001b[1;33m.\u001b[0m\u001b[0m_sockfd\u001b[0m\u001b[1;33m,\u001b[0m \u001b[0mdata\u001b[0m\u001b[1;33m)\u001b[0m\u001b[1;33m\u001b[0m\u001b[1;33m\u001b[0m\u001b[0m\n\u001b[0m\u001b[0;32m     88\u001b[0m \u001b[1;33m\u001b[0m\u001b[0m\n\u001b[0;32m     89\u001b[0m     \u001b[1;32mdef\u001b[0m \u001b[0mrecv\u001b[0m \u001b[1;33m(\u001b[0m\u001b[0mself\u001b[0m\u001b[1;33m,\u001b[0m \u001b[0mnumbytes\u001b[0m\u001b[1;33m)\u001b[0m\u001b[1;33m:\u001b[0m\u001b[1;33m\u001b[0m\u001b[1;33m\u001b[0m\u001b[0m\n",
      "\u001b[1;31mOSError\u001b[0m: "
     ]
    }
   ],
   "source": [
    "#send song    \n",
    "for i in range(0, len(max_mtu_song)):\n",
    "    s.send(max_mtu_song[i])\n",
    "    sleep(0.5)"
   ]
  },
  {
   "cell_type": "code",
   "execution_count": 20,
   "metadata": {},
   "outputs": [
    {
     "data": {
      "text/plain": [
       "b'ID3\\x03\\x00\\x00\\x00\\x00\\x00<TYER\\x00\\x00\\x00\\x05\\x00\\x00\\x002019TENC\\x00\\x00\\x00\\x15\\x00\\x00\\x00LAME in FL Studio 20TBPM\\x00\\x00\\x00\\x04\\x00\\x00\\x00150\\xff\\xfa\\xe0l\\xac\\xcf\\x00\\x00\\x08#{1\\xeda\\xe0\\x02c\\xad\\x16c\\xa0\\x14\\x01k\\x8d\\x17%\\xb9\\xff\\x00\\x02\\xd3\\xc5\\xe0\\xb7\\x02\\xb0\\x00\\x00\\x00\\x00\\x10\\x80\\x15\\xbb\\xea\\xb0\\xe5\\xc30\\x84\\xb7\\xec\\x88\\xc4\\xe3\\xb6\\x0e\\x88X\\xa6\\xa6\\x03\\x98\\xac\\xe6\\x12\\x81\\x8e\\xd5\\xd2\\xa0\\xb6\\x8c\\x91\\x10tD\\xa4Hj\\xf3\\x9d^t8)\\xcd5\\x1c\\xef\\x13\\x86\\x81\\x0b[/\\x82\\xd8K\\x1e\\x92\\xb1\\xeb2\\xdc!\\xa7\\xcd5\\x1bQ\\xc8h(\\'\\x80\\x9c4\\x14\\x10S\\xe6\\x9a\\xaek\\xbfc:\\xe3\\x1f\\x86\\x81\\xd0\\xa3\\x8e\\xd8\\x86(\"CW\\xab\\xd9*\\xc6\\xa3s`9\\x0e\\x87\\x08\\n\\xc5b\\xb2f3\\x9c\\xebB\\xd95\\r>\\x87\\xa1\\xea6}\\xde\\xff\\x1a\\xf9\\xbd\\xe9H\\x0f\\x1e<y\\x13ZoC\\xd0\\xf6v\\xc40\\xd0C\\x14vN\\x1a\\n\\x08\\xa9\\xf3L\\x9d\\x97\\x05Cy\\xa6u\\xce\\x9cC\"<y\\xac\\xc3cW\\xbf\\xde_\\xbf\\xdb\\x01\\xc8N\\x11\\x87\\xf8\\xf4\\x10\\x85\\x859o\\'e\\xcdW\\x00\\xd3:\\xdc\\xe00+\\x1ek/\\x18\\x15\\x8f%O\\x9aj;!\\xe8z\\x8e<\\x04\\xe2\\x18\\xa0\\x95\\x0cP|\\xdf\\xff\\xe9O\\xfd\\xef\\xbcC\\xbe\\xf1JSWy\\x13Y\\xbd\\xef\\xba?\\x8f\\x80\\x06G\\xf4=\\xe0\\x00\\x00\\x19J\\xff\\xff\\xff\\xff\\xff\\xff\\xff\\xff\\xfa\\x11\\xa4\\'9\\xf3\\xff\\xfd\\x08\\xd2\\x12\\xaf\\xfa4\\xe1\\xf3\\xa0|]\\xd0\\x84%HOB5\\x08E\\x0f\\x80`q\\x80\\x18\\x1d\\xc4\\x03\\x82\\x8c\\xaeB4\\xe7\\x0f\\x9d\\xcf!\\x14L\\x07\\x0f\\xa0\\x06\\x07q\\x00\\xe0\\x00\\x04\\x14\\x90\\x93\\x9cL]\\xc4\\x001mt~c\\xf8\\x01\\xe0\\x0e\\x8e?1\\xfc\\x00d\\x03\\xa7\\xff\\xff\\x80\\x08\\x10\\x08\\r\\x06\\x00\\x80 @\\xb0|8a\\x10\\xa3\\x00\\\\\\x006\\xbee\\xf9\\xa7\\xe2l@\\xa4\\xc2c\\xd4\\x13\\xaeb\\x8a\\x86\\x94\\xae\\xcc\\x02P\\x04\\xcceP~\\x0c(\\xb0\\xcb\\x0c\\n\\xf0\\x1b\\xc2\\xc0\\t\\x8e\\x80,`\\x11\\x00\\x0cba\\x00\"c?\\x8b6`\\x1e\\x80\\x98`\\x10\\x80Z`t\\x03\\x820#4\\x9a2\\x13Oq\\xf90+\\x01\\x83\\x01`\\x8b0\\x1b\\x00\\x13\\x02p\\x13,\\x00q\\x95\\x81I\\x1a\\x04\\x87!\\x9b1c\\x18(\\x00y\\x82\\xd0s\\x98Q\\x00\\xa1\\x80\\xc0\\x00\\x18\\n\\x003-u\\xcc2E\\xa4\\xd0Pm\\x8cm\\xcc\\x1c\\xca<HL\\x1cB\\xd0\\xc3t`\\x0cg\\xc3\\xe8\\xc2\\xb0OQa\\x07\\xe7\\x85\\x80\\r\\x86\\x1a\\t\\xa7\\t\\x97\\x18\\xe2\\x19\\xb1\\x11\\x11\\x84\\x18\\xdf\\x18\\xab\\x04\\xd9\\x80\\xd0\\x0f\\x98e\\x03i\\x81\\xd0\\r\\x18'"
      ]
     },
     "execution_count": 20,
     "metadata": {},
     "output_type": "execute_result"
    }
   ],
   "source": [
    "(bytes(byte_array_song[(0):(671)]))"
   ]
  },
  {
   "cell_type": "code",
   "execution_count": 14,
   "metadata": {},
   "outputs": [
    {
     "ename": "OSError",
     "evalue": "",
     "output_type": "error",
     "traceback": [
      "\u001b[1;31m---------------------------------------------------------------------------\u001b[0m",
      "\u001b[1;31mOSError\u001b[0m                                   Traceback (most recent call last)",
      "\u001b[1;32m<ipython-input-14-d9132b25cfdb>\u001b[0m in \u001b[0;36m<module>\u001b[1;34m\u001b[0m\n\u001b[0;32m     22\u001b[0m \u001b[1;32mtry\u001b[0m\u001b[1;33m:\u001b[0m\u001b[1;33m\u001b[0m\u001b[1;33m\u001b[0m\u001b[0m\n\u001b[0;32m     23\u001b[0m     \u001b[0ms\u001b[0m\u001b[1;33m=\u001b[0m\u001b[0mbt\u001b[0m\u001b[1;33m.\u001b[0m\u001b[0mBluetoothSocket\u001b[0m\u001b[1;33m(\u001b[0m\u001b[0mbt\u001b[0m\u001b[1;33m.\u001b[0m\u001b[0mRFCOMM\u001b[0m\u001b[1;33m)\u001b[0m\u001b[1;33m\u001b[0m\u001b[1;33m\u001b[0m\u001b[0m\n\u001b[1;32m---> 24\u001b[1;33m     \u001b[0ms\u001b[0m\u001b[1;33m.\u001b[0m\u001b[0mconnect\u001b[0m\u001b[1;33m(\u001b[0m\u001b[1;33m(\u001b[0m\u001b[0mADD_DEVICES\u001b[0m\u001b[1;33m[\u001b[0m\u001b[0mwanted\u001b[0m\u001b[1;33m]\u001b[0m\u001b[1;33m,\u001b[0m\u001b[1;36m2\u001b[0m\u001b[1;33m)\u001b[0m\u001b[1;33m)\u001b[0m\u001b[1;33m\u001b[0m\u001b[1;33m\u001b[0m\u001b[0m\n\u001b[0m\u001b[0;32m     25\u001b[0m \u001b[1;32mexcept\u001b[0m \u001b[0mbt\u001b[0m\u001b[1;33m.\u001b[0m\u001b[0mbtcommon\u001b[0m\u001b[1;33m.\u001b[0m\u001b[0mBluetoothError\u001b[0m \u001b[1;32mas\u001b[0m \u001b[0merr\u001b[0m\u001b[1;33m:\u001b[0m\u001b[1;33m\u001b[0m\u001b[1;33m\u001b[0m\u001b[0m\n\u001b[0;32m     26\u001b[0m     \u001b[1;32mpass\u001b[0m\u001b[1;33m\u001b[0m\u001b[1;33m\u001b[0m\u001b[0m\n",
      "\u001b[1;32mc:\\users\\hugod\\appdata\\local\\programs\\python\\python38\\lib\\site-packages\\bluetooth\\msbt.py\u001b[0m in \u001b[0;36mconnect\u001b[1;34m(self, addrport)\u001b[0m\n\u001b[0;32m     82\u001b[0m     \u001b[1;32mdef\u001b[0m \u001b[0mconnect\u001b[0m \u001b[1;33m(\u001b[0m\u001b[0mself\u001b[0m\u001b[1;33m,\u001b[0m \u001b[0maddrport\u001b[0m\u001b[1;33m)\u001b[0m\u001b[1;33m:\u001b[0m\u001b[1;33m\u001b[0m\u001b[1;33m\u001b[0m\u001b[0m\n\u001b[0;32m     83\u001b[0m         \u001b[0maddr\u001b[0m\u001b[1;33m,\u001b[0m \u001b[0mport\u001b[0m \u001b[1;33m=\u001b[0m \u001b[0maddrport\u001b[0m\u001b[1;33m\u001b[0m\u001b[1;33m\u001b[0m\u001b[0m\n\u001b[1;32m---> 84\u001b[1;33m         \u001b[0mbt\u001b[0m\u001b[1;33m.\u001b[0m\u001b[0mconnect\u001b[0m \u001b[1;33m(\u001b[0m\u001b[0mself\u001b[0m\u001b[1;33m.\u001b[0m\u001b[0m_sockfd\u001b[0m\u001b[1;33m,\u001b[0m \u001b[0maddr\u001b[0m\u001b[1;33m,\u001b[0m \u001b[0mport\u001b[0m\u001b[1;33m)\u001b[0m\u001b[1;33m\u001b[0m\u001b[1;33m\u001b[0m\u001b[0m\n\u001b[0m\u001b[0;32m     85\u001b[0m \u001b[1;33m\u001b[0m\u001b[0m\n\u001b[0;32m     86\u001b[0m     \u001b[1;32mdef\u001b[0m \u001b[0msend\u001b[0m \u001b[1;33m(\u001b[0m\u001b[0mself\u001b[0m\u001b[1;33m,\u001b[0m \u001b[0mdata\u001b[0m\u001b[1;33m)\u001b[0m\u001b[1;33m:\u001b[0m\u001b[1;33m\u001b[0m\u001b[1;33m\u001b[0m\u001b[0m\n",
      "\u001b[1;31mOSError\u001b[0m: "
     ]
    }
   ],
   "source": [
    "import bluetooth as bt\n",
    "from time import sleep\n",
    "\n",
    "# look for surounding devices\n",
    "ADD_DEVICES=bt.discover_devices()\n",
    "NAME_DEVICES=[]\n",
    "\n",
    "# find user friendly names of devices\n",
    "for X in ADD_DEVICES:\n",
    "    NAME_DEVICES.append(bt.lookup_name(X))\n",
    "    \n",
    "#look for wanted device\n",
    "wanted = 0\n",
    "\n",
    "for j in range(0,len(NAME_DEVICES)):\n",
    "    if NAME_DEVICES[j]=='Bose SLIII':\n",
    "        wanted = j\n",
    "\n",
    "\n",
    "\n",
    "#connection by RFCOMM protocol\n",
    "try:\n",
    "    s=bt.BluetoothSocket(bt.RFCOMM)\n",
    "    s.connect((ADD_DEVICES[wanted],2))\n",
    "except bt.btcommon.BluetoothError as err:\n",
    "    pass\n",
    "\n",
    "\n",
    "#load song to play\n",
    "song = open(\"C:/Users/HugoD/OneDrive/Documents/Image-Line/FL Studio/Projects/Finish/colt.mp3\",'rb')\n",
    "byte_array_song = bytearray( song.read())\n",
    "song.close()\n",
    "\n",
    "\n",
    "#convert song for sending\n",
    "max_mtu_song= list()\n",
    "for i in range(0,64000):\n",
    "    max_mtu_song.append(bytes(byte_array_song[(671*i):(671*(i+1))]))\n",
    "    \n",
    "    \n",
    "#################################### MARCHE PAS\n",
    "#send song    \n",
    "for i in range(0, len(max_mtu_song)):\n",
    "    s.send(max_mtu_song[i])\n",
    "    sleep(0.5)"
   ]
  },
  {
   "cell_type": "code",
   "execution_count": 5,
   "metadata": {},
   "outputs": [
    {
     "name": "stdout",
     "output_type": "stream",
     "text": [
      "found target bluetooth device with address  C0:EE:FB:FE:98:1B\n"
     ]
    }
   ],
   "source": [
    "# find phone\n",
    "import bluetooth as bt\n",
    "\n",
    "target_name = \"OnePlus 3T\"\n",
    "target_address = None\n",
    "\n",
    "nearby_devices = bluetooth.discover_devices()\n",
    "\n",
    "for bdaddr in nearby_devices:\n",
    "    if target_name == bluetooth.lookup_name( bdaddr ):\n",
    "        target_address = bdaddr\n",
    "        break\n",
    "\n",
    "if target_address is not None:\n",
    "    print (\"found target bluetooth device with address \", target_address)\n",
    "else:\n",
    "    print (\"could not find target bluetooth device nearby\")"
   ]
  },
  {
   "cell_type": "code",
   "execution_count": 13,
   "metadata": {},
   "outputs": [
    {
     "ename": "OSError",
     "evalue": "",
     "output_type": "error",
     "traceback": [
      "\u001b[1;31m---------------------------------------------------------------------------\u001b[0m",
      "\u001b[1;31mOSError\u001b[0m                                   Traceback (most recent call last)",
      "\u001b[1;32m<ipython-input-13-c3bf3417d5ad>\u001b[0m in \u001b[0;36m<module>\u001b[1;34m\u001b[0m\n\u001b[0;32m      4\u001b[0m \u001b[1;33m\u001b[0m\u001b[0m\n\u001b[0;32m      5\u001b[0m \u001b[0mport\u001b[0m \u001b[1;33m=\u001b[0m \u001b[1;36m1\u001b[0m\u001b[1;33m\u001b[0m\u001b[1;33m\u001b[0m\u001b[0m\n\u001b[1;32m----> 6\u001b[1;33m \u001b[0mserver_sock\u001b[0m\u001b[1;33m.\u001b[0m\u001b[0mbind\u001b[0m\u001b[1;33m(\u001b[0m\u001b[1;33m(\u001b[0m\u001b[1;34m\"\"\u001b[0m\u001b[1;33m,\u001b[0m\u001b[0mport\u001b[0m\u001b[1;33m)\u001b[0m\u001b[1;33m)\u001b[0m\u001b[1;33m\u001b[0m\u001b[1;33m\u001b[0m\u001b[0m\n\u001b[0m\u001b[0;32m      7\u001b[0m \u001b[0mserver_sock\u001b[0m\u001b[1;33m.\u001b[0m\u001b[0mlisten\u001b[0m\u001b[1;33m(\u001b[0m\u001b[1;36m1\u001b[0m\u001b[1;33m)\u001b[0m\u001b[1;33m\u001b[0m\u001b[1;33m\u001b[0m\u001b[0m\n\u001b[0;32m      8\u001b[0m \u001b[1;33m\u001b[0m\u001b[0m\n",
      "\u001b[1;32mc:\\users\\hugod\\appdata\\local\\programs\\python\\python38\\lib\\site-packages\\bluetooth\\msbt.py\u001b[0m in \u001b[0;36mbind\u001b[1;34m(self, addrport)\u001b[0m\n\u001b[0;32m     70\u001b[0m \u001b[1;33m\u001b[0m\u001b[0m\n\u001b[0;32m     71\u001b[0m             \u001b[1;32mif\u001b[0m \u001b[0mport\u001b[0m \u001b[1;33m==\u001b[0m \u001b[1;36m0\u001b[0m\u001b[1;33m:\u001b[0m \u001b[0mport\u001b[0m \u001b[1;33m=\u001b[0m \u001b[0mbt\u001b[0m\u001b[1;33m.\u001b[0m\u001b[0mBT_PORT_ANY\u001b[0m\u001b[1;33m\u001b[0m\u001b[1;33m\u001b[0m\u001b[0m\n\u001b[1;32m---> 72\u001b[1;33m             \u001b[0mbt\u001b[0m\u001b[1;33m.\u001b[0m\u001b[0mbind\u001b[0m \u001b[1;33m(\u001b[0m\u001b[0mself\u001b[0m\u001b[1;33m.\u001b[0m\u001b[0m_sockfd\u001b[0m\u001b[1;33m,\u001b[0m \u001b[0maddr\u001b[0m\u001b[1;33m,\u001b[0m \u001b[0mport\u001b[0m\u001b[1;33m)\u001b[0m\u001b[1;33m\u001b[0m\u001b[1;33m\u001b[0m\u001b[0m\n\u001b[0m\u001b[0;32m     73\u001b[0m \u001b[1;33m\u001b[0m\u001b[0m\n\u001b[0;32m     74\u001b[0m     \u001b[1;32mdef\u001b[0m \u001b[0mlisten\u001b[0m \u001b[1;33m(\u001b[0m\u001b[0mself\u001b[0m\u001b[1;33m,\u001b[0m \u001b[0mbacklog\u001b[0m\u001b[1;33m)\u001b[0m\u001b[1;33m:\u001b[0m\u001b[1;33m\u001b[0m\u001b[1;33m\u001b[0m\u001b[0m\n",
      "\u001b[1;31mOSError\u001b[0m: "
     ]
    }
   ],
   "source": [
    "### MARCHE PAS\n",
    "# build serveur RFCOMM\n",
    "\n",
    "import bluetooth\n",
    "\n",
    "server_sock=bluetooth.BluetoothSocket( bluetooth.RFCOMM )\n",
    "\n",
    "port = 1\n",
    "server_sock.bind((\"\",port))\n",
    "server_sock.listen(1)\n",
    "\n",
    "client_sock,address = server_sock.accept()\n",
    "print (\"Accepted connection from \",address)\n",
    "\n",
    "data = client_sock.recv(1024)\n",
    "print (\"received [%s]\" % data)\n",
    "\n",
    "client_sock.close()\n",
    "server_sock.close()"
   ]
  },
  {
   "cell_type": "code",
   "execution_count": 12,
   "metadata": {},
   "outputs": [
    {
     "ename": "OSError",
     "evalue": "",
     "output_type": "error",
     "traceback": [
      "\u001b[1;31m---------------------------------------------------------------------------\u001b[0m",
      "\u001b[1;31mOSError\u001b[0m                                   Traceback (most recent call last)",
      "\u001b[1;32m<ipython-input-12-ff1e0eaa535b>\u001b[0m in \u001b[0;36m<module>\u001b[1;34m\u001b[0m\n\u001b[0;32m      6\u001b[0m \u001b[1;33m\u001b[0m\u001b[0m\n\u001b[0;32m      7\u001b[0m \u001b[0msock\u001b[0m\u001b[1;33m=\u001b[0m\u001b[0mbluetooth\u001b[0m\u001b[1;33m.\u001b[0m\u001b[0mBluetoothSocket\u001b[0m\u001b[1;33m(\u001b[0m \u001b[0mbluetooth\u001b[0m\u001b[1;33m.\u001b[0m\u001b[0mRFCOMM\u001b[0m \u001b[1;33m)\u001b[0m\u001b[1;33m\u001b[0m\u001b[1;33m\u001b[0m\u001b[0m\n\u001b[1;32m----> 8\u001b[1;33m \u001b[0msock\u001b[0m\u001b[1;33m.\u001b[0m\u001b[0mconnect\u001b[0m\u001b[1;33m(\u001b[0m\u001b[1;33m(\u001b[0m\u001b[0mbd_addr\u001b[0m\u001b[1;33m,\u001b[0m \u001b[0mport\u001b[0m\u001b[1;33m)\u001b[0m\u001b[1;33m)\u001b[0m\u001b[1;33m\u001b[0m\u001b[1;33m\u001b[0m\u001b[0m\n\u001b[0m\u001b[0;32m      9\u001b[0m \u001b[1;33m\u001b[0m\u001b[0m\n\u001b[0;32m     10\u001b[0m \u001b[0msock\u001b[0m\u001b[1;33m.\u001b[0m\u001b[0msend\u001b[0m\u001b[1;33m(\u001b[0m\u001b[1;34m\"hello!!\"\u001b[0m\u001b[1;33m)\u001b[0m\u001b[1;33m\u001b[0m\u001b[1;33m\u001b[0m\u001b[0m\n",
      "\u001b[1;32mc:\\users\\hugod\\appdata\\local\\programs\\python\\python38\\lib\\site-packages\\bluetooth\\msbt.py\u001b[0m in \u001b[0;36mconnect\u001b[1;34m(self, addrport)\u001b[0m\n\u001b[0;32m     82\u001b[0m     \u001b[1;32mdef\u001b[0m \u001b[0mconnect\u001b[0m \u001b[1;33m(\u001b[0m\u001b[0mself\u001b[0m\u001b[1;33m,\u001b[0m \u001b[0maddrport\u001b[0m\u001b[1;33m)\u001b[0m\u001b[1;33m:\u001b[0m\u001b[1;33m\u001b[0m\u001b[1;33m\u001b[0m\u001b[0m\n\u001b[0;32m     83\u001b[0m         \u001b[0maddr\u001b[0m\u001b[1;33m,\u001b[0m \u001b[0mport\u001b[0m \u001b[1;33m=\u001b[0m \u001b[0maddrport\u001b[0m\u001b[1;33m\u001b[0m\u001b[1;33m\u001b[0m\u001b[0m\n\u001b[1;32m---> 84\u001b[1;33m         \u001b[0mbt\u001b[0m\u001b[1;33m.\u001b[0m\u001b[0mconnect\u001b[0m \u001b[1;33m(\u001b[0m\u001b[0mself\u001b[0m\u001b[1;33m.\u001b[0m\u001b[0m_sockfd\u001b[0m\u001b[1;33m,\u001b[0m \u001b[0maddr\u001b[0m\u001b[1;33m,\u001b[0m \u001b[0mport\u001b[0m\u001b[1;33m)\u001b[0m\u001b[1;33m\u001b[0m\u001b[1;33m\u001b[0m\u001b[0m\n\u001b[0m\u001b[0;32m     85\u001b[0m \u001b[1;33m\u001b[0m\u001b[0m\n\u001b[0;32m     86\u001b[0m     \u001b[1;32mdef\u001b[0m \u001b[0msend\u001b[0m \u001b[1;33m(\u001b[0m\u001b[0mself\u001b[0m\u001b[1;33m,\u001b[0m \u001b[0mdata\u001b[0m\u001b[1;33m)\u001b[0m\u001b[1;33m:\u001b[0m\u001b[1;33m\u001b[0m\u001b[1;33m\u001b[0m\u001b[0m\n",
      "\u001b[1;31mOSError\u001b[0m: "
     ]
    }
   ],
   "source": [
    "### MARCHE PAS\n",
    "#build client RFCOMM\n",
    "\n",
    "import bluetooth\n",
    "\n",
    "bd_addr = \"01:23:45:67:89:AB\"\n",
    "\n",
    "port = 1\n",
    "\n",
    "sock=bluetooth.BluetoothSocket( bluetooth.RFCOMM )\n",
    "sock.connect((bd_addr, port))\n",
    "\n",
    "sock.send(\"hello!!\")\n",
    "\n",
    "sock.close()"
   ]
  },
  {
   "cell_type": "code",
   "execution_count": 28,
   "metadata": {},
   "outputs": [
    {
     "name": "stdout",
     "output_type": "stream",
     "text": [
      "couldn't find the FooBar service\n"
     ]
    },
    {
     "ename": "SystemExit",
     "evalue": "0",
     "output_type": "error",
     "traceback": [
      "An exception has occurred, use %tb to see the full traceback.\n",
      "\u001b[1;31mSystemExit\u001b[0m\u001b[1;31m:\u001b[0m 0\n"
     ]
    }
   ],
   "source": [
    "### MARCHE PAS\n",
    "import sys\n",
    "import bluetooth\n",
    "\n",
    "uuid = \"1e0ca4ea-299d-4335-93eb-27fcfe7fa848\"\n",
    "service_matches = bluetooth.find_service( uuid = uuid )\n",
    "\n",
    "if len(service_matches) == 0:\n",
    "    print (\"couldn't find the FooBar service\")\n",
    "    sys.exit(0)\n",
    "\n",
    "first_match = service_matches[0]\n",
    "port = first_match[\"port\"]\n",
    "name = first_match[\"name\"]\n",
    "host = first_match[\"host\"]\n",
    "\n",
    "print (\"connecting to \\\"%s\\\" on %s\" % (name, host))\n",
    "\n",
    "sock=bluetooth.BluetoothSocket( bluetooth.RFCOMM )\n",
    "sock.connect((host, port))\n",
    "sock.send(\"hello!!\")\n",
    "sock.close()"
   ]
  },
  {
   "cell_type": "code",
   "execution_count": 30,
   "metadata": {},
   "outputs": [
    {
     "ename": "OSError",
     "evalue": "",
     "output_type": "error",
     "traceback": [
      "\u001b[1;31m---------------------------------------------------------------------------\u001b[0m",
      "\u001b[1;31mOSError\u001b[0m                                   Traceback (most recent call last)",
      "\u001b[1;32m<ipython-input-30-6a7cb9864627>\u001b[0m in \u001b[0;36m<module>\u001b[1;34m\u001b[0m\n\u001b[0;32m      5\u001b[0m \u001b[1;33m\u001b[0m\u001b[0m\n\u001b[0;32m      6\u001b[0m \u001b[0mport\u001b[0m \u001b[1;33m=\u001b[0m \u001b[1;36m1\u001b[0m\u001b[1;33m\u001b[0m\u001b[1;33m\u001b[0m\u001b[0m\n\u001b[1;32m----> 7\u001b[1;33m \u001b[0mserver_sock\u001b[0m\u001b[1;33m.\u001b[0m\u001b[0mbind\u001b[0m\u001b[1;33m(\u001b[0m\u001b[1;33m(\u001b[0m\u001b[1;34m\"\"\u001b[0m\u001b[1;33m,\u001b[0m\u001b[0mport\u001b[0m\u001b[1;33m)\u001b[0m\u001b[1;33m)\u001b[0m\u001b[1;33m\u001b[0m\u001b[1;33m\u001b[0m\u001b[0m\n\u001b[0m\u001b[0;32m      8\u001b[0m \u001b[0mserver_sock\u001b[0m\u001b[1;33m.\u001b[0m\u001b[0mlisten\u001b[0m\u001b[1;33m(\u001b[0m\u001b[1;36m1\u001b[0m\u001b[1;33m)\u001b[0m\u001b[1;33m\u001b[0m\u001b[1;33m\u001b[0m\u001b[0m\n\u001b[0;32m      9\u001b[0m \u001b[0mprint\u001b[0m \u001b[1;33m(\u001b[0m\u001b[1;34m\"listening on port %d\"\u001b[0m \u001b[1;33m%\u001b[0m \u001b[0mport\u001b[0m\u001b[1;33m)\u001b[0m\u001b[1;33m\u001b[0m\u001b[1;33m\u001b[0m\u001b[0m\n",
      "\u001b[1;32mc:\\users\\hugod\\appdata\\local\\programs\\python\\python38\\lib\\site-packages\\bluetooth\\msbt.py\u001b[0m in \u001b[0;36mbind\u001b[1;34m(self, addrport)\u001b[0m\n\u001b[0;32m     70\u001b[0m \u001b[1;33m\u001b[0m\u001b[0m\n\u001b[0;32m     71\u001b[0m             \u001b[1;32mif\u001b[0m \u001b[0mport\u001b[0m \u001b[1;33m==\u001b[0m \u001b[1;36m0\u001b[0m\u001b[1;33m:\u001b[0m \u001b[0mport\u001b[0m \u001b[1;33m=\u001b[0m \u001b[0mbt\u001b[0m\u001b[1;33m.\u001b[0m\u001b[0mBT_PORT_ANY\u001b[0m\u001b[1;33m\u001b[0m\u001b[1;33m\u001b[0m\u001b[0m\n\u001b[1;32m---> 72\u001b[1;33m             \u001b[0mbt\u001b[0m\u001b[1;33m.\u001b[0m\u001b[0mbind\u001b[0m \u001b[1;33m(\u001b[0m\u001b[0mself\u001b[0m\u001b[1;33m.\u001b[0m\u001b[0m_sockfd\u001b[0m\u001b[1;33m,\u001b[0m \u001b[0maddr\u001b[0m\u001b[1;33m,\u001b[0m \u001b[0mport\u001b[0m\u001b[1;33m)\u001b[0m\u001b[1;33m\u001b[0m\u001b[1;33m\u001b[0m\u001b[0m\n\u001b[0m\u001b[0;32m     73\u001b[0m \u001b[1;33m\u001b[0m\u001b[0m\n\u001b[0;32m     74\u001b[0m     \u001b[1;32mdef\u001b[0m \u001b[0mlisten\u001b[0m \u001b[1;33m(\u001b[0m\u001b[0mself\u001b[0m\u001b[1;33m,\u001b[0m \u001b[0mbacklog\u001b[0m\u001b[1;33m)\u001b[0m\u001b[1;33m:\u001b[0m\u001b[1;33m\u001b[0m\u001b[1;33m\u001b[0m\u001b[0m\n",
      "\u001b[1;31mOSError\u001b[0m: "
     ]
    }
   ],
   "source": [
    "### MARCHE PAS\n",
    "import bluetooth\n",
    "\n",
    "server_sock=bluetooth.BluetoothSocket( bluetooth.RFCOMM )\n",
    "\n",
    "port = 1\n",
    "server_sock.bind((\"\",port))\n",
    "server_sock.listen(1)\n",
    "print (\"listening on port %d\" % port)\n",
    "\n",
    "uuid = \"1e0ca4ea-299d-4335-93eb-27fcfe7fa848\"\n",
    "bluetooth.advertise_service( server_sock, \"FooBar Service\", uuid )\n",
    "\n",
    "client_sock,address = server_sock.accept()\n",
    "print (\"Accepted connection from \",address)\n",
    "\n",
    "data = client_sock.recv(1024)\n",
    "print (\"received [%s]\" % data)\n",
    "\n",
    "client_sock.close()\n",
    "server_sock.close()"
   ]
  },
  {
   "cell_type": "code",
   "execution_count": 29,
   "metadata": {},
   "outputs": [
    {
     "name": "stdout",
     "output_type": "stream",
     "text": [
      "[]\n"
     ]
    }
   ],
   "source": [
    "uuid = \"1e0ca4ea-299d-4335-93eb-27fcfe7fa848\"\n",
    "service_matches = bluetooth.find_service( uuid = uuid )\n",
    "print(service_matches)"
   ]
  },
  {
   "cell_type": "code",
   "execution_count": 31,
   "metadata": {},
   "outputs": [
    {
     "data": {
      "text/plain": [
       "<bluetooth.msbt.BluetoothSocket at 0x1fd866f9a90>"
      ]
     },
     "execution_count": 31,
     "metadata": {},
     "output_type": "execute_result"
    }
   ],
   "source": [
    "server_sock"
   ]
  },
  {
   "cell_type": "code",
   "execution_count": null,
   "metadata": {},
   "outputs": [],
   "source": []
  }
 ],
 "metadata": {
  "anaconda-cloud": {},
  "kernelspec": {
   "display_name": "Python 3",
   "language": "python",
   "name": "python3"
  },
  "language_info": {
   "codemirror_mode": {
    "name": "ipython",
    "version": 3
   },
   "file_extension": ".py",
   "mimetype": "text/x-python",
   "name": "python",
   "nbconvert_exporter": "python",
   "pygments_lexer": "ipython3",
   "version": "3.8.2"
  }
 },
 "nbformat": 4,
 "nbformat_minor": 4
}
